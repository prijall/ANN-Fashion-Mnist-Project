{
 "cells": [
  {
   "cell_type": "code",
   "execution_count": 4,
   "metadata": {},
   "outputs": [],
   "source": [
    "import numpy as np\n",
    "import cv2 \n",
    "import os\n",
    "\n",
    "#@ Loading MNIST Fashion Dataset:\n",
    "\n",
    "def load_dataset(dataset, path):\n",
    "    labels=os.listdir(os.path.join(path, dataset))\n",
    "\n",
    "    #creating list for samples and labels:\n",
    "    X=[]\n",
    "    y=[]\n",
    "\n",
    "    for label in labels:\n",
    "        for file in os.listdir(os.path.join(path, dataset, label)):\n",
    "            image=cv2.imread(os.path.join(path, dataset, label, file), cv2.IMREAD_UNCHANGED)\n",
    "            X.append(image)\n",
    "            y.append(label)\n",
    "\n",
    "    \n",
    "    # Converting the data to proper numpy arrays and return:\n",
    "    return np.array(X), np.array(y).astype('uint8')\n",
    "\n",
    "#@ MNIST dataset(train + test)\n",
    "def create_data_mnist(path):\n",
    "    X, y=load_dataset('train', path)\n",
    "    X_test, y_test=load_dataset('test', path)\n",
    "\n",
    "    return X, y, X_test, y_test"
   ]
  },
  {
   "cell_type": "markdown",
   "metadata": {},
   "source": [
    "### Data Preprocessing"
   ]
  },
  {
   "cell_type": "code",
   "execution_count": 5,
   "metadata": {},
   "outputs": [],
   "source": [
    "#@ Creating dataset:\n",
    "X, y, X_test, y_test=create_data_mnist('fashion_mnist_images')"
   ]
  },
  {
   "cell_type": "code",
   "execution_count": 6,
   "metadata": {},
   "outputs": [],
   "source": [
    "# scaling features:\n",
    "X=(X.astype(np.float32)- 127.5)/127.5\n",
    "X_test=(X_test.astype(np.float32)-127.5)/127.5"
   ]
  },
  {
   "cell_type": "code",
   "execution_count": 7,
   "metadata": {},
   "outputs": [
    {
     "name": "stdout",
     "output_type": "stream",
     "text": [
      "-1.0 1.0\n"
     ]
    }
   ],
   "source": [
    "print(X.min(), X.max())"
   ]
  }
 ],
 "metadata": {
  "kernelspec": {
   "display_name": "Python 3",
   "language": "python",
   "name": "python3"
  },
  "language_info": {
   "codemirror_mode": {
    "name": "ipython",
    "version": 3
   },
   "file_extension": ".py",
   "mimetype": "text/x-python",
   "name": "python",
   "nbconvert_exporter": "python",
   "pygments_lexer": "ipython3",
   "version": "3.12.0"
  }
 },
 "nbformat": 4,
 "nbformat_minor": 2
}
